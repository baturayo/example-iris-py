{
 "cells": [
  {
   "cell_type": "code",
   "execution_count": 2,
   "metadata": {},
   "outputs": [],
   "source": [
    "import joblib\n",
    "\n",
    "model_location = \"my_model.joblib\"\n",
    "clf = joblib.load(model_location)\n",
    "\n",
    "# this annotation will expose this model on the `/` path\n",
    "# an example post body to try with this request:\n",
    "# [[5.1, 3.5, 1.4, 0.2], [4.9, 3.0, 3.4, 0.2]]\n",
    "#\n",
    "# @dploy endpoint\n",
    "def predict(X: list) -> list:\n",
    "    return clf.predict(X).tolist()"
   ]
  }
 ],
 "metadata": {
  "kernelspec": {
   "display_name": "Python 3.7.0 64-bit ('venv': venv)",
   "language": "python",
   "name": "python37064bitvenvvenv077dd0d5968e4640a119ea3047a65382"
  },
  "language_info": {
   "codemirror_mode": {
    "name": "ipython",
    "version": 3
   },
   "file_extension": ".py",
   "mimetype": "text/x-python",
   "name": "python",
   "nbconvert_exporter": "python",
   "pygments_lexer": "ipython3",
   "version": "3.7.0"
  }
 },
 "nbformat": 4,
 "nbformat_minor": 4
}

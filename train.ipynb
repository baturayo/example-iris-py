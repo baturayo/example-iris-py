{
 "cells": [
  {
   "cell_type": "code",
   "execution_count": 8,
   "metadata": {},
   "outputs": [],
   "source": [
    "from sklearn.datasets import load_iris\n",
    "from sklearn.ensemble import RandomForestClassifier\n",
    "from sklearn.model_selection import train_test_split\n",
    "from sklearn import metrics\n",
    "import joblib\n",
    "import pandas as pd\n",
    "\n",
    "\n",
    "def train(model_location):\n",
    "    iris = load_iris()\n",
    "    data = pd.DataFrame(\n",
    "        {\n",
    "            \"sepal length\": iris.data[:, 0],\n",
    "            \"sepal width\": iris.data[:, 1],\n",
    "            \"petal length\": iris.data[:, 2],\n",
    "            \"petal width\": iris.data[:, 3],\n",
    "            \"species\": iris.target,\n",
    "        }\n",
    "    )\n",
    "\n",
    "    X = data[[\"sepal length\", \"sepal width\", \"petal length\", \"petal width\"]]\n",
    "    y = data[\"species\"]\n",
    "\n",
    "    X_train, X_test, y_train, y_test = train_test_split(X, y, test_size=0.3)\n",
    "\n",
    "    clf = RandomForestClassifier(n_estimators=3)\n",
    "    clf.fit(X_train, y_train)\n",
    "\n",
    "    y_pred = clf.predict(X_test)\n",
    "    print(\"Accuracy: {}\".format(metrics.accuracy_score(y_test, y_pred)))\n",
    "\n",
    "    joblib.dump(clf, model_location)\n",
    "    print(\"Saved to: {}\".format(model_location))"
   ]
  },
  {
   "cell_type": "code",
   "execution_count": 9,
   "metadata": {},
   "outputs": [
    {
     "name": "stdout",
     "output_type": "stream",
     "text": [
      "Accuracy: 0.9111111111111111\n",
      "Saved to: my_model.joblib\n"
     ]
    }
   ],
   "source": [
    "train(model_location = \"my_model.joblib\")"
   ]
  }
 ],
 "metadata": {
  "kernelspec": {
   "display_name": "Python 3.7.0 64-bit ('venv': venv)",
   "language": "python",
   "name": "python37064bitvenvvenv077dd0d5968e4640a119ea3047a65382"
  },
  "language_info": {
   "codemirror_mode": {
    "name": "ipython",
    "version": 3
   },
   "file_extension": ".py",
   "mimetype": "text/x-python",
   "name": "python",
   "nbconvert_exporter": "python",
   "pygments_lexer": "ipython3",
   "version": "3.7.0"
  }
 },
 "nbformat": 4,
 "nbformat_minor": 4
}
